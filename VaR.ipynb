{
 "cells": [
  {
   "cell_type": "code",
   "execution_count": 100,
   "id": "65fb8f1d-921c-41bb-91a3-33e0a7680678",
   "metadata": {},
   "outputs": [],
   "source": [
    "import numpy as np\n",
    "import pandas as pd\n",
    "import datetime\n",
    "import yfinance as yf\n",
    "from scipy.stats import norm\n"
   ]
  },
  {
   "cell_type": "code",
   "execution_count": 176,
   "id": "b43a64ca-5446-4cbc-848e-52ed51c5e3f7",
   "metadata": {},
   "outputs": [],
   "source": [
    "def download_data(stock, start_date, end_date):\n",
    "    stock_data = yf.download(stock, start_date, end_date, auto_adjust=True)\n",
    "    return stock_data['Close']\n",
    "\n",
    "def calculate_var(position, c, mu, sigma, time=1):\n",
    "    var = position*(mu*(time)-sigma*norm.ppf(1-c)*np.sqrt(time))\n",
    "    print(var)\n",
    "    return var\n",
    "    "
   ]
  },
  {
   "cell_type": "code",
   "execution_count": 178,
   "id": "8326a838-5a52-46b4-8c5f-89a38607c140",
   "metadata": {},
   "outputs": [
    {
     "name": "stderr",
     "output_type": "stream",
     "text": [
      "[*********************100%***********************]  1 of 1 completed"
     ]
    },
    {
     "name": "stdout",
     "output_type": "stream",
     "text": [
      "Ticker              C   returns\n",
      "Date                           \n",
      "2014-01-02  39.388569       NaN\n",
      "2014-01-03  40.240101  0.021388\n",
      "2014-01-06  40.549057  0.007648\n",
      "2014-01-07  40.827881  0.006853\n",
      "2014-01-08  41.302620  0.011561\n",
      "...               ...       ...\n",
      "2017-12-22  58.465057 -0.004362\n",
      "2017-12-26  57.915188 -0.009450\n",
      "2017-12-27  58.000366  0.001470\n",
      "2017-12-28  58.147541  0.002534\n",
      "2017-12-29  57.628632 -0.008964\n",
      "\n",
      "[1007 rows x 2 columns]\n",
      "0.00037827423084930035\n",
      "0.015217696079500423\n"
     ]
    },
    {
     "name": "stderr",
     "output_type": "stream",
     "text": [
      "\n"
     ]
    }
   ],
   "source": [
    "stock_data = download_data('C', '2014-01-01', '2018-01-01')\n",
    "stock_data['returns'] = np.log(stock_data/stock_data.shift(1))\n",
    "print(stock_data)\n",
    "mean = stock_data['returns'].mean()\n",
    "sigma = np.sqrt(stock_data['returns'].var())\n",
    "print(mean)\n",
    "print(sigma)"
   ]
  },
  {
   "cell_type": "code",
   "execution_count": 183,
   "id": "dae43033-f495-465e-9e3f-13fed6435b0e",
   "metadata": {},
   "outputs": [
    {
     "name": "stdout",
     "output_type": "stream",
     "text": [
      "35779.92915319475\n",
      "35779.92915319475\n"
     ]
    }
   ],
   "source": [
    "print(calculate_var(1000000, 0.99, mean, sigma, 1))\n"
   ]
  },
  {
   "cell_type": "code",
   "execution_count": null,
   "id": "bb72f4ab-4925-41f1-9daf-3b5231939d51",
   "metadata": {},
   "outputs": [],
   "source": []
  },
  {
   "cell_type": "code",
   "execution_count": null,
   "id": "dce8e377-e036-44fd-8a4f-1b3fbe552fd4",
   "metadata": {},
   "outputs": [],
   "source": []
  },
  {
   "cell_type": "code",
   "execution_count": null,
   "id": "259b0188-753d-42e3-b26e-e87e35a05b73",
   "metadata": {},
   "outputs": [],
   "source": []
  }
 ],
 "metadata": {
  "kernelspec": {
   "display_name": "Python [conda env:base] *",
   "language": "python",
   "name": "conda-base-py"
  },
  "language_info": {
   "codemirror_mode": {
    "name": "ipython",
    "version": 3
   },
   "file_extension": ".py",
   "mimetype": "text/x-python",
   "name": "python",
   "nbconvert_exporter": "python",
   "pygments_lexer": "ipython3",
   "version": "3.12.2"
  }
 },
 "nbformat": 4,
 "nbformat_minor": 5
}
