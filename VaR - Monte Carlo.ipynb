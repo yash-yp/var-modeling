{
 "cells": [
  {
   "cell_type": "code",
   "execution_count": 23,
   "id": "670d294a-44a0-4f22-a226-04493353628d",
   "metadata": {},
   "outputs": [],
   "source": [
    "import numpy as np\n",
    "import pandas as pd\n",
    "import yfinance as yf"
   ]
  },
  {
   "cell_type": "code",
   "execution_count": 46,
   "id": "58365cb3-ac6c-4487-89cc-b543c31e2a44",
   "metadata": {},
   "outputs": [],
   "source": [
    "def download_data(stock, start_date, end_date):\n",
    "    stock_data = yf.download(stock, start_date, end_date, auto_adjust=True)\n",
    "    return stock_data['Close']\n",
    "\n",
    "def monte_carlo_simulation(S0, mu, sigma, days, n=1000):\n",
    "    St = S0*np.exp((mu-sigma**2/2)*days + sigma*np.sqrt(days)*np.random.normal(size=n))\n",
    "    return St"
   ]
  },
  {
   "cell_type": "code",
   "execution_count": 115,
   "id": "a0fc322a-0a85-4301-81d9-0ec06f063864",
   "metadata": {},
   "outputs": [
    {
     "name": "stderr",
     "output_type": "stream",
     "text": [
      "[*********************100%***********************]  1 of 1 completed"
     ]
    },
    {
     "name": "stdout",
     "output_type": "stream",
     "text": [
      "[36.69911895 36.7418011  36.74787171 ... 42.35447204 42.37638308\n",
      " 42.51852686]\n",
      "24392.89710560441\n"
     ]
    },
    {
     "name": "stderr",
     "output_type": "stream",
     "text": [
      "\n"
     ]
    }
   ],
   "source": [
    "stock_data = download_data('C', '2014-01-01', '2018-01-01')\n",
    "confidence = 0.95\n",
    "n = 1000000\n",
    "position = 1000000\n",
    "T = 1\n",
    "stock_data['returns'] = np.log(stock_data/stock_data.shift(1))\n",
    "mean = stock_data['returns'].mean()\n",
    "sigma = np.sqrt(stock_data['returns'].var())\n",
    "start_price = stock_data['C'].iloc[0]\n",
    "\n",
    "stock_prices = monte_carlo_simulation(stock_data['C'].iloc[0], mean, sigma, T, n)\n",
    "stock_prices.sort()\n",
    "print(stock_prices)\n",
    "index = int((1-confidence)*(n-1))\n",
    "# percentile_price = np.percentile(stock_prices, (1 - confidence) * 100)\n",
    "var =  (start_price - stock_prices[index])*(position/start_price)\n",
    "print(var)"
   ]
  },
  {
   "cell_type": "code",
   "execution_count": null,
   "id": "45071aff-e8b8-4ea7-aa5d-01b1fef6fec8",
   "metadata": {},
   "outputs": [],
   "source": []
  },
  {
   "cell_type": "code",
   "execution_count": null,
   "id": "ec0712b4-7ad6-432b-9eb5-83826643a7cc",
   "metadata": {},
   "outputs": [],
   "source": []
  }
 ],
 "metadata": {
  "kernelspec": {
   "display_name": "Python [conda env:base] *",
   "language": "python",
   "name": "conda-base-py"
  },
  "language_info": {
   "codemirror_mode": {
    "name": "ipython",
    "version": 3
   },
   "file_extension": ".py",
   "mimetype": "text/x-python",
   "name": "python",
   "nbconvert_exporter": "python",
   "pygments_lexer": "ipython3",
   "version": "3.12.2"
  }
 },
 "nbformat": 4,
 "nbformat_minor": 5
}
